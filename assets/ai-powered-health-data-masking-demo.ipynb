{
 "cells": [
  {
   "cell_type": "markdown",
   "metadata": {},
   "source": [
    "# AI-Powered Health Data Masking Samples"
   ]
  },
  {
   "cell_type": "markdown",
   "metadata": {},
   "source": [
    "## Initial Setup"
   ]
  },
  {
   "cell_type": "code",
   "execution_count": null,
   "metadata": {},
   "outputs": [],
   "source": [
    "import boto3\n",
    "import json\n",
    "client = boto3.client('apigateway')\n",
    "\n",
    "# Replace these values with the API and Resource IDs from your CloudFormation Output\n",
    "api_id = '2cbk50ek5l'\n",
    "images_mask_resource_id = 'smaotd'\n",
    "images_phi_resource_id = 'g2v7mb'\n",
    "images_resource_id = 'm8zsye'\n",
    "images_text_resource_id = '8g102z'\n",
    "text_mask_resource_id = 'i5tmxg'\n",
    "text_phi_resource_id = 'mkdva7'\n",
    "ImageBucketName = 'aipowered-imagebucket-1he2rguqes4fk'"
   ]
  },
  {
   "cell_type": "markdown",
   "metadata": {},
   "source": [
    "## Text Masking"
   ]
  },
  {
   "cell_type": "code",
   "execution_count": null,
   "metadata": {},
   "outputs": [],
   "source": [
    "# Define and print our initial text payload\n",
    "payload = {\"text\": \"PERSON INFORMATION\\nName: SALAZAR, CARLOS\\nMRN: RQ36114734\\nED Arrival Time: 11/12/2011 18:15\\nSex: Male\\nDOB: 2/11/1961\"}\n",
    "print(payload['text']+'\\n'+'\\n')"
   ]
  },
  {
   "cell_type": "markdown",
   "metadata": {},
   "source": [
    "### Get PHI locations in our text\n",
    "/text/phi"
   ]
  },
  {
   "cell_type": "code",
   "execution_count": null,
   "metadata": {},
   "outputs": [],
   "source": [
    "response = client.test_invoke_method(\n",
    "\trestApiId=api_id,\n",
    "\tresourceId=text_phi_resource_id,\n",
    "\thttpMethod='POST',\n",
    "\theaders={\"Content-Type\": \"application/json\"},\n",
    "\tbody=json.dumps(payload)\n",
    ")\n",
    "print(type(response))\n",
    "out = json.loads(response['body'])\n",
    "print(payload['text']+'\\n'+'\\n')\n",
    "print(json.dumps(out, indent=4, sort_keys=True))"
   ]
  },
  {
   "cell_type": "markdown",
   "metadata": {},
   "source": [
    "### Mask PHI in our text\n",
    "/text/mask"
   ]
  },
  {
   "cell_type": "code",
   "execution_count": null,
   "metadata": {},
   "outputs": [],
   "source": [
    "response = client.test_invoke_method(\n",
    "\trestApiId=api_id,\n",
    "\tresourceId=text_mask_resource_id,\n",
    "\thttpMethod='POST',\n",
    "\theaders={\"Content-Type\": \"application/json\"},\n",
    "\tbody=json.dumps(payload)\n",
    ")\n",
    "\n",
    "out = json.loads(response['body'])\n",
    "print(out[\"maskedText\"])"
   ]
  },
  {
   "cell_type": "markdown",
   "metadata": {},
   "source": [
    "# Image Masking"
   ]
  },
  {
   "cell_type": "code",
   "execution_count": null,
   "metadata": {},
   "outputs": [],
   "source": [
    "# These values define our sample image and where we want the masked copy stored\n",
    "# To view this image, browse to the S3 location listed below in the\n",
    "# AWS Management Console and 'Download' the image from S3\n",
    "s3_key = 'sample.png'\n",
    "destination_key = 'masked/' + s3_key"
   ]
  },
  {
   "cell_type": "markdown",
   "metadata": {},
   "source": [
    "## Get text locations in an image\n",
    "/images/text"
   ]
  },
  {
   "cell_type": "code",
   "execution_count": null,
   "metadata": {},
   "outputs": [],
   "source": [
    "queryString='/images/text?s3Bucket='+ImageBucketName+'&s3Key='+s3_key\n",
    "response = client.test_invoke_method(\n",
    "\trestApiId=api_id,\n",
    "\tresourceId=images_text_resource_id,\n",
    "\thttpMethod='GET',\n",
    "\theaders={\"Content-Type\": \"application/json\"},\n",
    "\tpathWithQueryString=queryString\n",
    ")\n",
    "\n",
    "out = json.loads(response['body'])\n",
    "print(json.dumps(out, indent=4, sort_keys=True))"
   ]
  },
  {
   "cell_type": "markdown",
   "metadata": {},
   "source": [
    "## Get PHI locations in an image\n",
    "/images/phi"
   ]
  },
  {
   "cell_type": "code",
   "execution_count": null,
   "metadata": {},
   "outputs": [],
   "source": [
    "queryString='/images/phi?s3Bucket='+ImageBucketName+'&s3Key='+s3_key\n",
    "response = client.test_invoke_method(\n",
    "\trestApiId=api_id,\n",
    "\tresourceId=images_phi_resource_id,\n",
    "\thttpMethod='GET',\n",
    "\theaders={\"Content-Type\": \"application/json\"},\n",
    "\tpathWithQueryString=queryString\n",
    ")\n",
    "\n",
    "out = json.loads(response['body'])\n",
    "print(json.dumps(out, indent=4, sort_keys=True))"
   ]
  },
  {
   "cell_type": "markdown",
   "metadata": {},
   "source": [
    "## Mask Image PHI\n",
    "/images/mask"
   ]
  },
  {
   "cell_type": "code",
   "execution_count": null,
   "metadata": {},
   "outputs": [],
   "source": [
    "payload = {\"s3Bucket\": ImageBucketName, \"s3Key\": s3_key, \"destinationBucket\": ImageBucketName, \"destinationKey\": destination_key}\n",
    "response = client.test_invoke_method(\n",
    "\trestApiId=api_id,\n",
    "\tresourceId=images_mask_resource_id,\n",
    "\thttpMethod='POST',\n",
    "\theaders={\"Content-Type\": \"application/json\"},\n",
    "\tbody=json.dumps(payload)\n",
    ")\n",
    "\n",
    "print(response['body'])\n",
    "\n",
    "# To view this masked image, browse to the S3 location listed below in the\n",
    "# AWS Management Console and 'Download' the image from S3"
   ]
  }
 ],
 "metadata": {
  "kernelspec": {
   "display_name": "conda_python3",
   "language": "python",
   "name": "conda_python3"
  },
  "language_info": {
   "codemirror_mode": {
    "name": "ipython",
    "version": 3
   },
   "file_extension": ".py",
   "mimetype": "text/x-python",
   "name": "python",
   "nbconvert_exporter": "python",
   "pygments_lexer": "ipython3",
   "version": "3.6.5"
  }
 },
 "nbformat": 4,
 "nbformat_minor": 2
}
